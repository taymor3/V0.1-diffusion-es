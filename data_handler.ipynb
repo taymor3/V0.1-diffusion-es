{
 "cells": [
  {
   "cell_type": "markdown",
   "id": "3bf01b14",
   "metadata": {},
   "source": [
    "# 🚀 Data Handling and Scenario Visualization with NuPlan\n",
    "\n",
    "Welcome to this introductory notebook on **data handling and scenario visualization** using the **NuPlan** dataset!\n",
    "\n",
    "This notebook guides you through the essential initial steps: **configuring the NuPlan database paths** and **launching the interactive viewer** to explore the driving scenarios. We're using a small subset of the full NuPlan data (the \"mini-split\") for a quick and accessible start.\n",
    "\n",
    "---\n",
    "\n",
    "## ⚙️ Database Configuration\n",
    "\n",
    "The first step in working with NuPlan is defining where the data and map files live. The following code configures the paths required by the visualization tools.\n",
    "\n",
    "| Variable | Description |\n",
    "| :--- | :--- |\n",
    "| `NUPLAN_DATA_ROOT` | The path to the directory containing the NuPlan database (`.db`) files (e.g., the mini-split). |\n",
    "| `NUPLAN_MAPS_ROOT` | The path to the directory containing the NuPlan map assets. |\n",
    "| `NUPLAN_MAP_VERSION` | The specific version string for the maps being used. |"
   ]
  },
  {
   "cell_type": "code",
   "execution_count": null,
   "id": "07fb42ee",
   "metadata": {},
   "outputs": [],
   "source": [
    "import os\n",
    "\n",
    "\n",
    "NUPLAN_DATA_ROOT = \"/home/taimor/data1/nuplan-v1.1/splits/mini\"   # folder that contains  .db files\n",
    "NUPLAN_MAPS_ROOT = \"/home/taimor/data1/maps\"                     # folder that contains nuplan-maps-v1.0.json\n",
    "NUPLAN_MAP_VERSION = \"nuplan-maps-v1.0\""
   ]
  },
  {
   "cell_type": "markdown",
   "id": "3fc431a8",
   "metadata": {},
   "source": [
    "## 📊 Database Visualization Explained\n",
    "\n",
    "This short piece of code is used to launch an interactive tool for **exploring the contents and statistics of the NuPlan dataset database files** that were configured in the previous step.\n",
    "\n",
    "---\n",
    "\n",
    "### What the Code Does\n",
    "\n",
    "This code performs a single, specific action: it calls the `visualize_database` function.\n",
    "\n",
    "1.  **`from tools.visulize_database import visualize_database`**:\n",
    "    * This line **imports** the necessary function, `visualize_database`, from a custom local module called `tools.visulize_database`. This function is the core tool we use for data exploration.\n",
    "\n",
    "2.  **`visualize_database(...)`**:\n",
    "    * This is the function execution. It tells the program to run the database visualization tool, passing in four main configuration arguments:\n",
    "        * **`bokeh_port=8899`**: This specifies the **network port** (8899) on which the interactive visualization will be accessible in your web browser (e.g., at `localhost:8899`). This port is often used by **Bokeh**, a Python library frequently used for creating interactive web plots.\n",
    "        * **`data_root=NUPLAN_DATA_ROOT`**: This tells the visualization tool **where to find the NuPlan database files** (`.db` files) we want to analyze (the path set previously).\n",
    "        * **`map_root=NUPLAN_MAPS_ROOT`**: This provides the path to the **map assets** needed to understand the geographic context of the data.\n",
    "        * **`map_version=NUPLAN_MAP_VERSION`**: This specifies the **version of the map data** to ensure correct loading.\n",
    "\n",
    "### Expected Result\n",
    "\n",
    "When you run this cell, the output will typically show a message indicating that a server has started. You can then navigate to the specified port (usually **`http://localhost:8899`** in your web browser) to view a dashboard.\n",
    "\n",
    "This dashboard will allow you to see statistics, distributions, and summaries of the data inside your NuPlan databases, such as the total number of logs, the duration of scenarios, and other high-level insights."
   ]
  },
  {
   "cell_type": "code",
   "execution_count": null,
   "id": "2d094b71",
   "metadata": {},
   "outputs": [],
   "source": [
    "from tools.visulize_database import visualize_database\n",
    "\n",
    "visualize_database(bokeh_port=8899, data_root=NUPLAN_DATA_ROOT, map_root=NUPLAN_MAPS_ROOT, map_version=NUPLAN_MAP_VERSION)"
   ]
  },
  {
   "cell_type": "markdown",
   "id": "4e98c8ec",
   "metadata": {},
   "source": [
    "## 🚗 Canonical Scenario Viewer Explained\n",
    "\n",
    "This code cell is designed to launch an **interactive web-based viewer** specifically for exploring the **canonical scenarios** contained within the NuPlan dataset.\n",
    "\n",
    "### What the Code Does\n",
    "\n",
    "The code uses the **`launch_canonical_viewer`** function to start a local server that loads, categorizes, and displays driving logs based on the type of maneuver or challenge they contain.\n",
    "\n",
    "1.  **Imports the Viewer Tool**:\n",
    "    ```python\n",
    "    from tools.canonical_family_viewer import launch_canonical_viewer\n",
    "    ```\n",
    "    This imports the specialized function needed to launch the interactive visualization.\n",
    "\n",
    "2.  **Launches the Viewer**:\n",
    "    The function call initiates the server and passes the necessary configuration:\n",
    "\n",
    "    * **Data Paths**: It uses `NUPLAN_DATA_ROOT`, `NUPLAN_MAPS_ROOT`, and `NUPLAN_MAP_VERSION` to locate the database and map files.\n",
    "    * **Scenario Organization**: The scenarios are automatically organized into **14 predefined canonical families** (e.g., \"Turning Left,\" \"Lane Changes\").\n",
    "    * **Configuration**:\n",
    "        * `show_only_available=False` forces the viewer to list **all 14 families**, even if some are empty in your current data split.\n",
    "        * `fixed_port=8898` assigns a fixed network port for access.\n",
    "\n",
    "### Key Functionality\n",
    "\n",
    "This tool's main benefit is viewing the data **categorized by maneuver**. When you open the viewer at **`http://localhost:8898`**, you can select a family (like \"High-Speed Merging\") and then browse through multiple, distinct log segments (scenarios) to see a visual replay. This provides a focused, **qualitative assessment** of how different critical driving challenges are represented in the NuPlan dataset."
   ]
  },
  {
   "cell_type": "code",
   "execution_count": null,
   "id": "3d9fadff",
   "metadata": {},
   "outputs": [],
   "source": [
    "from tools.canonical_family_viewer import launch_canonical_viewer\n",
    "\n",
    "# launch a viewer that shows the canonical scenarios for all 14 families\n",
    "launch_canonical_viewer(\n",
    "    data_root=NUPLAN_DATA_ROOT,\n",
    "    map_root=NUPLAN_MAPS_ROOT,\n",
    "    map_version=NUPLAN_MAP_VERSION,\n",
    "    show_only_available=False,  # set False to always list all 14 families\n",
    "    fixed_port=8898,           # choose a random port (8891-8899)\n",
    ")\n"
   ]
  }
 ],
 "metadata": {
  "kernelspec": {
   "display_name": "Python (Nuplan)",
   "language": "python",
   "name": "nuplan"
  },
  "language_info": {
   "codemirror_mode": {
    "name": "ipython",
    "version": 3
   },
   "file_extension": ".py",
   "mimetype": "text/x-python",
   "name": "python",
   "nbconvert_exporter": "python",
   "pygments_lexer": "ipython3",
   "version": "3.9.23"
  }
 },
 "nbformat": 4,
 "nbformat_minor": 5
}
