{
 "cells": [
  {
   "cell_type": "code",
   "execution_count": null,
   "id": "07fb42ee",
   "metadata": {},
   "outputs": [],
   "source": [
    "from tools.visulize_database import visualize_database\n",
    "\n",
    "# configue the paths here\n",
    "NUPLAN_DATA_ROOT = \"/home/taimor/data1/nuplan-v1.1/splits/mini\"   # folder that contains many .db files\n",
    "NUPLAN_MAPS_ROOT = \"/home/taimor/data1/maps\"                     # folder that contains nuplan-maps-v1.0.json\n",
    "NUPLAN_MAP_VERSION = \"nuplan-maps-v1.0\"\n",
    "visualize_database(bokeh_port=8899, data_root=NUPLAN_DATA_ROOT, map_root=NUPLAN_MAPS_ROOT, map_version=NUPLAN_MAP_VERSION)"
   ]
  },
  {
   "cell_type": "code",
   "execution_count": null,
   "id": "3d9fadff",
   "metadata": {},
   "outputs": [],
   "source": [
    "from tools.canonical_family_viewer import launch_canonical_viewer\n",
    "import os\n",
    "\n",
    "DATA_ROOT = os.getenv(\"NUPLAN_DATA_ROOT\")\n",
    "MAP_ROOT  = os.getenv(\"NUPLAN_MAPS_ROOT\")\n",
    "MAP_VER   = os.getenv(\"NUPLAN_MAP_VERSION\", \"nuplan-maps-v1.0\")\n",
    "\n",
    "launch_canonical_viewer(\n",
    "    data_root=DATA_ROOT,\n",
    "    map_root=MAP_ROOT,\n",
    "    map_version=MAP_VER,\n",
    "    show_only_available=True,  # set False to always list all 14 families\n",
    "    fixed_port=8899,           # reuse port so the tutorial cleans up the previous viewer\n",
    ")\n"
   ]
  }
 ],
 "metadata": {
  "kernelspec": {
   "display_name": "Python (Nuplan)",
   "language": "python",
   "name": "nuplan"
  },
  "language_info": {
   "codemirror_mode": {
    "name": "ipython",
    "version": 3
   },
   "file_extension": ".py",
   "mimetype": "text/x-python",
   "name": "python",
   "nbconvert_exporter": "python",
   "pygments_lexer": "ipython3",
   "version": "3.9.23"
  }
 },
 "nbformat": 4,
 "nbformat_minor": 5
}
