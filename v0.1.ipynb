{
 "cells": [
  {
   "cell_type": "markdown",
   "id": "96c159c0-5379-4048-84c4-f893b5e1cb52",
   "metadata": {},
   "source": [
    "<h1>First try</h1>"
   ]
  },
  {
   "cell_type": "code",
   "execution_count": null,
   "id": "34f4572f-f8bd-43e9-a3f9-8df6f1ffd6e5",
   "metadata": {},
   "outputs": [],
   "source": []
  }
 ],
 "metadata": {
  "kernelspec": {
   "display_name": "Python 3 (ipykernel)",
   "language": "python",
   "name": "python3"
  },
  "language_info": {
   "codemirror_mode": {
    "name": "ipython",
    "version": 3
   },
   "file_extension": ".py",
   "mimetype": "text/x-python",
   "name": "python",
   "nbconvert_exporter": "python",
   "pygments_lexer": "ipython3",
   "version": "3.9.23"
  }
 },
 "nbformat": 4,
 "nbformat_minor": 5
}
